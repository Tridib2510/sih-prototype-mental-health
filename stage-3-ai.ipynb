{
 "cells": [
  {
   "cell_type": "code",
   "execution_count": 101,
   "id": "b5483b1a",
   "metadata": {},
   "outputs": [
    {
     "name": "stderr",
     "output_type": "stream",
     "text": [
      "[nltk_data] Downloading package punkt_tab to c:\\Users\\Tridib Roy\n",
      "[nltk_data]     Chowdhury\\OneDrive\\Desktop\\CODING\\AI-persona\\AI-\n",
      "[nltk_data]     Persona...\n",
      "[nltk_data]   Package punkt_tab is already up-to-date!\n"
     ]
    }
   ],
   "source": [
    "import nltk\n",
    "import os\n",
    "current_dir = os.getcwd()\n",
    "nltk.download('punkt_tab', download_dir=current_dir) \n",
    "nltk.data.path.append(current_dir)   \n"
   ]
  },
  {
   "cell_type": "code",
   "execution_count": 102,
   "id": "c2bccb89",
   "metadata": {},
   "outputs": [],
   "source": [
    "import spacy\n",
    "\n",
    "nlp = spacy.load(\"en_core_web_sm\")\n",
    "\n",
    "def extract_key_points(sentence):\n",
    "    \n",
    "    nlp = spacy.load(\"en_core_web_sm\")\n",
    "# Process the sentence\n",
    "    doc = nlp(sentence)\n",
    "    \n",
    "# Extract simple tokens\n",
    "    tokens = [token.text for token in doc]\n",
    "    \n",
    "    return tokens\n",
    "    \n",
    "\n",
    "\n"
   ]
  },
  {
   "cell_type": "code",
   "execution_count": 103,
   "id": "8a24e347",
   "metadata": {},
   "outputs": [
    {
     "data": {
      "text/plain": [
       "['I', 'am', 'Tridib']"
      ]
     },
     "execution_count": 103,
     "metadata": {},
     "output_type": "execute_result"
    }
   ],
   "source": [
    "extract_key_points('I am Tridib')"
   ]
  },
  {
   "cell_type": "code",
   "execution_count": 104,
   "id": "49bb5941",
   "metadata": {},
   "outputs": [],
   "source": [
    "def is_general_question(question):\n",
    "    \"\"\"\n",
    "    Returns True if the input question appears to be a general-purpose question.\n",
    "    \"\"\"\n",
    "    question = question.strip().lower()\n",
    "    question_words = {\n",
    "    # Common question words\n",
    "    \"who\", \"what\", \"when\", \"where\", \"why\", \"how\", \"which\", \"whom\", \"whose\",\n",
    "    \n",
    "    # Auxiliary verbs commonly at the start of questions\n",
    "    \"is\", \"are\", \"was\", \"were\", \"do\", \"does\", \"did\", \"can\", \"could\", \"would\", \"should\",\n",
    "    \"will\", \"have\", \"has\", \"had\", \"may\", \"might\", \"shall\",\n",
    "\n",
    "    # Common modal verbs and helping verbs\n",
    "    \"am\", \"be\", \"being\", \"been\", \"to\",\n",
    "\n",
    "    # General determiners and pronouns often in questions\n",
    "    \"the\", \"a\", \"an\", \"this\", \"that\", \"these\", \"those\", \"some\", \"any\", \"all\", \"none\", \n",
    "    \"each\", \"every\", \"either\", \"neither\", \"one\",\n",
    "\n",
    "    # Common conjunctions and prepositions in questions\n",
    "    \"and\", \"or\", \"but\", \"if\", \"so\", \"because\", \"about\", \"for\", \"with\", \"without\", \"at\", \"in\", \"on\",\n",
    "    \"from\", \"by\", \"to\", \"of\",\n",
    "\n",
    "    # Interrogative adverbs and pronouns\n",
    "    \"how\", \"why\", \"when\", \"where\", \"what\", \"who\",\n",
    "\n",
    "    # Common verbs found in questions\n",
    "    \"can\", \"could\", \"will\", \"would\", \"do\", \"does\", \"did\", \"is\", \"are\", \"was\", \"were\",\n",
    "\n",
    "    # Question markers and punctuation tokens (if tokenized)\n",
    "    \"?\", \"please\", \"tell\", \"explain\", \"describe\", \"define\", \"show\",\n",
    "\n",
    "    # Miscellaneous polite forms (sometimes in general questions)\n",
    "    \"could\", \"would\", \"like\", \"want\", \"need\"\n",
    "}\n",
    "    \n",
    "  \n",
    "    \n",
    "    # Check if question starts with a general question word\n",
    "    first_word = question.split()[0]\n",
    "    if first_word in question_words:\n",
    "        return True\n",
    "    \n",
    "   \n",
    "    \n",
    "    return False\n",
    "\n"
   ]
  },
  {
   "cell_type": "code",
   "execution_count": 105,
   "id": "81e57b98",
   "metadata": {},
   "outputs": [
    {
     "data": {
      "text/plain": [
       "True"
      ]
     },
     "execution_count": 105,
     "metadata": {},
     "output_type": "execute_result"
    }
   ],
   "source": [
    "is_general_question('What is the time')"
   ]
  },
  {
   "cell_type": "code",
   "execution_count": 106,
   "id": "929fd3a6",
   "metadata": {},
   "outputs": [],
   "source": [
    "def is_coding_related_bow(tokens):\n",
    "    \"\"\"\n",
    "    Check if a list of tokens is related to coding/programming by matching coding keywords.\n",
    "    \n",
    "    Args:\n",
    "        tokens (list of str): List of word tokens.\n",
    "        \n",
    "    Returns:\n",
    "        bool: True if any coding-related keywords are found, False otherwise.\n",
    "    \"\"\"\n",
    "    \n",
    "    coding_keywords = {\n",
    "    'algorithm', 'api', 'array', 'async', 'attribute', 'binary', 'boolean',\n",
    "    'breakpoint', 'bug', 'cache', 'callback', 'class', 'code', 'compiler',\n",
    "    'conditional', 'constant', 'constructor', 'container', 'debug', 'deprecate',\n",
    "    'dependency', 'dictionary', 'exception', 'execute', 'expression', 'feature',\n",
    "    'fetch', 'float', 'framework', 'function', 'git', 'hash', 'identifier',\n",
    "    'immutable', 'import', 'increment', 'index', 'inference', 'inheritance',\n",
    "    'instance', 'integer', 'interface', 'iterator', 'json', 'keyword', 'lambda',\n",
    "    'library', 'linkedlist', 'list', 'loop', 'memory', 'method', 'module',\n",
    "    'namespace', 'null', 'object', 'operator', 'package', 'parameter', 'python',\n",
    "    'pointer', 'polymorphism', 'private', 'procedure', 'process', 'property',\n",
    "    'public', 'queue', 'recursion', 'reference', 'refactor', 'repository', 'runtime',\n",
    "    'scope', 'stack', 'statement', 'string', 'struct', 'syntax', 'token',\n",
    "    'tokenize', 'tuple', 'type', 'variable', 'vector', 'virtual', 'void',\n",
    "    'while', 'workflow', 'xml', 'yaml', 'yield', 'zip',\n",
    "\n",
    "    # Common programming languages and tools\n",
    "    'java', 'javascript', 'c++', 'c#', 'c', 'go', 'rust', 'php',\n",
    "    'ruby', 'swift', 'typescript', 'bash', 'shell', 'powershell',\n",
    "\n",
    "    # Development tools and concepts\n",
    "    'ide', 'debugger', 'terminal', 'cli', 'build', 'deploy', 'test', 'unit',\n",
    "    'integration', 'ci', 'cd', 'version', 'commit', 'merge', 'branch', 'pull',\n",
    "    'push', 'clone', 'fork', 'pipeline', 'container', 'docker', 'kubernetes',\n",
    "\n",
    "    # Data structures & algorithms terms\n",
    "    'binarytree', 'hashtable', 'stack', 'queue', 'graph', 'hashmap',\n",
    "    'linkedlist', 'sorting', 'searching',\n",
    "\n",
    "    # Miscellaneous\n",
    "    'pip', 'npm', 'package', 'module', 'class', 'object', 'method',\n",
    "    'inheritance', 'encapsulation', 'abstraction', 'polymorphism'\n",
    "}\n",
    "\n",
    "    # Check that input is a list of strings\n",
    "    if not isinstance(tokens, list) or not all(isinstance(t, str) for t in tokens):\n",
    "        raise ValueError(\"Input must be a list of string tokens.\")\n",
    "\n",
    "    lowered_tokens = [token.lower() for token in tokens]\n",
    "    matched_keywords = [token for token in lowered_tokens if token in coding_keywords]\n",
    "\n",
    "    if matched_keywords:\n",
    "        return True\n",
    "    else:\n",
    "        return False"
   ]
  },
  {
   "cell_type": "code",
   "execution_count": null,
   "id": "aa1d9e9d",
   "metadata": {},
   "outputs": [],
   "source": [
    "def model_train(text):\n",
    "    arr=[]\n",
    "\n",
    "    arr=extract_key_points(text)\n",
    "    \n",
    "    isCodingRelated=is_coding_related_bow(arr)\n",
    "    isGeneralPurpose=is_general_question(text)\n",
    "    if(isCodingRelated==True):\n",
    "       print('Claude')\n",
    "    elif(isGeneralPurpose==True):\n",
    "        print('Gemini')\n",
    "    else:\n",
    "      print('GPT')"
   ]
  },
  {
   "cell_type": "code",
   "execution_count": 108,
   "id": "ab12466a",
   "metadata": {},
   "outputs": [
    {
     "name": "stdout",
     "output_type": "stream",
     "text": [
      "GPT\n"
     ]
    }
   ],
   "source": [
    "model_train('Write an essay on freedom')"
   ]
  },
  {
   "cell_type": "code",
   "execution_count": 109,
   "id": "571a38bf",
   "metadata": {},
   "outputs": [
    {
     "name": "stdout",
     "output_type": "stream",
     "text": [
      "Claude\n"
     ]
    }
   ],
   "source": [
    "model_train('Write a C program to get fibonacci no')"
   ]
  },
  {
   "cell_type": "code",
   "execution_count": 110,
   "id": "f38feab0",
   "metadata": {},
   "outputs": [
    {
     "name": "stdout",
     "output_type": "stream",
     "text": [
      "Claude\n"
     ]
    }
   ],
   "source": [
    "model_train(\"Can you implement a Linked List in C\")"
   ]
  },
  {
   "cell_type": "code",
   "execution_count": 111,
   "id": "0ba77e19",
   "metadata": {},
   "outputs": [],
   "source": [
    "import dill\n",
    "\n",
    "\n",
    "functions = {\n",
    "    'model_train': model_train,\n",
    "    'extract_key_points': extract_key_points,\n",
    "    'is_coding_related_bow': is_coding_related_bow,\n",
    "    'is_general_question': is_general_question\n",
    "}\n",
    "\n",
    "\n",
    "with open('model.pkl', 'wb') as f:\n",
    "    dill.dump(functions, f)\n",
    " "
   ]
  }
 ],
 "metadata": {
  "kernelspec": {
   "display_name": "Python 3",
   "language": "python",
   "name": "python3"
  },
  "language_info": {
   "codemirror_mode": {
    "name": "ipython",
    "version": 3
   },
   "file_extension": ".py",
   "mimetype": "text/x-python",
   "name": "python",
   "nbconvert_exporter": "python",
   "pygments_lexer": "ipython3",
   "version": "3.10.0"
  }
 },
 "nbformat": 4,
 "nbformat_minor": 5
}
